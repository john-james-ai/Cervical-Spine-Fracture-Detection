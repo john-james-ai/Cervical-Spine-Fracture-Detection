{
 "cells": [
  {
   "cell_type": "markdown",
   "metadata": {},
   "source": [
    "# Setup\n",
    "This notebook uses [Weights & Biases](https://wandb.ai/site) MLOps platform to track experiments and log artifacts to a central location. \n",
    "In order to run this notebook you will need to provide your own secret API key. \n",
    "\n",
    "**How do I obtain my own secret Weights & Biases API key?**\n",
    "So easy! If you don't have a W&B account,\n",
    "- 1. Go to https:://wandb.ai/site.\n",
    "- 2. Click on Sign Up and complete the sign-up process for your FREE account.\n",
    "- 3. You may access your API key at https://wandb.ai/authorize.\n",
    "\n",
    "Once you have your API Key, you may store it as an environment variable in the \".env\" file located in the home directory. Ensure that the API key is stored with key \"WANDB_API_KEY\". Alternatively, you may paste it into the wandb login prompt.  If you are new to Weights & Biases, check out this [introduction to Weights & Biases](https://www.youtube.com/watch?v=krWjJcW80_A))."
   ]
  }
 ],
 "metadata": {
  "kernelspec": {
   "display_name": "Python 3.10.6 ('csf')",
   "language": "python",
   "name": "python3"
  },
  "language_info": {
   "name": "python",
   "version": "3.10.6"
  },
  "orig_nbformat": 4,
  "vscode": {
   "interpreter": {
    "hash": "5c7aacf4a450b834b55326697d1721adc48950a7a694effc6542fc738b0f314e"
   }
  }
 },
 "nbformat": 4,
 "nbformat_minor": 2
}
