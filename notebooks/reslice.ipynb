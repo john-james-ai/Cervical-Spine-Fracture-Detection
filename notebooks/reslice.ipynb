{
  "cells": [
    {
      "cell_type": "code",
      "execution_count": 1,
      "metadata": {
        "collapsed": false
      },
      "outputs": [],
      "source": [
        "%matplotlib inline"
      ]
    },
    {
      "cell_type": "markdown",
      "metadata": {},
      "source": [
        "\n",
        "# Load CT slices and plot axial, sagittal and coronal images\n",
        "\n",
        "This example illustrates loading multiple files, sorting them by slice\n",
        "location, building a 3D image and reslicing it in different planes.\n",
        "\n",
        ".. usage:\n",
        "\n",
        "   reslice.py <glob>\n",
        "   where <glob> refers to a set of DICOM image files.\n",
        "\n",
        "   Example: python reslice.py \"*.dcm\". The quotes are needed to protect\n",
        "   the glob from your system and leave it for the script.\n",
        "\n",
        ".. note:\n",
        "\n",
        "   Uses numpy and matplotlib.\n",
        "\n",
        "   Tested using series 2 from here\n",
        "   http://www.pcir.org/researchers/54879843_20060101.html\n"
      ]
    },
    {
      "cell_type": "code",
      "execution_count": 2,
      "metadata": {
        "collapsed": false
      },
      "outputs": [
        {
          "name": "stdout",
          "output_type": "stream",
          "text": [
            "glob: --ip=127.0.0.1\n",
            "file count: 0\n",
            "skipped, no SliceLocation: 0\n"
          ]
        },
        {
          "ename": "IndexError",
          "evalue": "list index out of range",
          "output_type": "error",
          "traceback": [
            "\u001b[0;31m---------------------------------------------------------------------------\u001b[0m",
            "\u001b[0;31mIndexError\u001b[0m                                Traceback (most recent call last)",
            "\u001b[1;32m/home/john/projects/CervicalSpineFractureDetection/notebooks/reslice.ipynb Cell 3\u001b[0m in \u001b[0;36m<cell line: 31>\u001b[0;34m()\u001b[0m\n\u001b[1;32m     <a href='vscode-notebook-cell://wsl%2Bubuntu/home/john/projects/CervicalSpineFractureDetection/notebooks/reslice.ipynb#W2sdnNjb2RlLXJlbW90ZQ%3D%3D?line=27'>28</a>\u001b[0m slices \u001b[39m=\u001b[39m \u001b[39msorted\u001b[39m(slices, key\u001b[39m=\u001b[39m\u001b[39mlambda\u001b[39;00m s: s\u001b[39m.\u001b[39mSliceLocation)\n\u001b[1;32m     <a href='vscode-notebook-cell://wsl%2Bubuntu/home/john/projects/CervicalSpineFractureDetection/notebooks/reslice.ipynb#W2sdnNjb2RlLXJlbW90ZQ%3D%3D?line=29'>30</a>\u001b[0m \u001b[39m# pixel aspects, assuming all slices are the same\u001b[39;00m\n\u001b[0;32m---> <a href='vscode-notebook-cell://wsl%2Bubuntu/home/john/projects/CervicalSpineFractureDetection/notebooks/reslice.ipynb#W2sdnNjb2RlLXJlbW90ZQ%3D%3D?line=30'>31</a>\u001b[0m ps \u001b[39m=\u001b[39m slices[\u001b[39m0\u001b[39;49m]\u001b[39m.\u001b[39mPixelSpacing\n\u001b[1;32m     <a href='vscode-notebook-cell://wsl%2Bubuntu/home/john/projects/CervicalSpineFractureDetection/notebooks/reslice.ipynb#W2sdnNjb2RlLXJlbW90ZQ%3D%3D?line=31'>32</a>\u001b[0m ss \u001b[39m=\u001b[39m slices[\u001b[39m0\u001b[39m]\u001b[39m.\u001b[39mSliceThickness\n\u001b[1;32m     <a href='vscode-notebook-cell://wsl%2Bubuntu/home/john/projects/CervicalSpineFractureDetection/notebooks/reslice.ipynb#W2sdnNjb2RlLXJlbW90ZQ%3D%3D?line=32'>33</a>\u001b[0m ax_aspect \u001b[39m=\u001b[39m ps[\u001b[39m1\u001b[39m]\u001b[39m/\u001b[39mps[\u001b[39m0\u001b[39m]\n",
            "\u001b[0;31mIndexError\u001b[0m: list index out of range"
          ]
        }
      ],
      "source": [
        "import pydicom\n",
        "import numpy as np\n",
        "import matplotlib.pyplot as plt\n",
        "import sys\n",
        "import glob\n",
        "\n",
        "# load the DICOM files\n",
        "files = []\n",
        "print('glob: {}'.format(sys.argv[1]))\n",
        "for fname in glob.glob(sys.argv[1], recursive=False):\n",
        "    print(\"loading: {}\".format(fname))\n",
        "    files.append(pydicom.dcmread(fname))\n",
        "\n",
        "print(\"file count: {}\".format(len(files)))\n",
        "\n",
        "# skip files with no SliceLocation (eg scout views)\n",
        "slices = []\n",
        "skipcount = 0\n",
        "for f in files:\n",
        "    if hasattr(f, 'SliceLocation'):\n",
        "        slices.append(f)\n",
        "    else:\n",
        "        skipcount = skipcount + 1\n",
        "\n",
        "print(\"skipped, no SliceLocation: {}\".format(skipcount))\n",
        "\n",
        "# ensure they are in the correct order\n",
        "slices = sorted(slices, key=lambda s: s.SliceLocation)\n",
        "\n",
        "# pixel aspects, assuming all slices are the same\n",
        "ps = slices[0].PixelSpacing\n",
        "ss = slices[0].SliceThickness\n",
        "ax_aspect = ps[1]/ps[0]\n",
        "sag_aspect = ps[1]/ss\n",
        "cor_aspect = ss/ps[0]\n",
        "\n",
        "# create 3D array\n",
        "img_shape = list(slices[0].pixel_array.shape)\n",
        "img_shape.append(len(slices))\n",
        "img3d = np.zeros(img_shape)\n",
        "\n",
        "# fill 3D array with the images from the files\n",
        "for i, s in enumerate(slices):\n",
        "    img2d = s.pixel_array\n",
        "    img3d[:, :, i] = img2d\n",
        "\n",
        "# plot 3 orthogonal slices\n",
        "a1 = plt.subplot(2, 2, 1)\n",
        "plt.imshow(img3d[:, :, img_shape[2]//2])\n",
        "a1.set_aspect(ax_aspect)\n",
        "\n",
        "a2 = plt.subplot(2, 2, 2)\n",
        "plt.imshow(img3d[:, img_shape[1]//2, :])\n",
        "a2.set_aspect(sag_aspect)\n",
        "\n",
        "a3 = plt.subplot(2, 2, 3)\n",
        "plt.imshow(img3d[img_shape[0]//2, :, :].T)\n",
        "a3.set_aspect(cor_aspect)\n",
        "\n",
        "plt.show()"
      ]
    }
  ],
  "metadata": {
    "kernelspec": {
      "display_name": "Python 3.10.4 ('csf')",
      "language": "python",
      "name": "python3"
    },
    "language_info": {
      "codemirror_mode": {
        "name": "ipython",
        "version": 3
      },
      "file_extension": ".py",
      "mimetype": "text/x-python",
      "name": "python",
      "nbconvert_exporter": "python",
      "pygments_lexer": "ipython3",
      "version": "3.10.4"
    },
    "vscode": {
      "interpreter": {
        "hash": "5c7aacf4a450b834b55326697d1721adc48950a7a694effc6542fc738b0f314e"
      }
    }
  },
  "nbformat": 4,
  "nbformat_minor": 0
}
