{
 "cells": [
  {
   "cell_type": "markdown",
   "metadata": {},
   "source": [
    "# Label\n",
    "Eight seven scans have been annotated with vertebrae labels. The purpose of this notebook is to train a model to learn the location of C1 through C7 vertebrae in the DICOM images, then apply labels to the remaining CT scans in the dataset."
   ]
  },
  {
   "cell_type": "code",
   "execution_count": 1,
   "metadata": {},
   "outputs": [],
   "source": [
    "from csf.config.runtime import RuntimeConfig\n",
    "from csf.config.file import FileConfig\n",
    "from csf.data.etl import SegmentationVertebraeExtractor\n",
    "from csf.config.etl import SegmentationVertebraeExtractorConfig"
   ]
  },
  {
   "cell_type": "markdown",
   "metadata": {},
   "source": [
    "## Environment Setup\n",
    "The runtime environment, including runtime strategy, directory and file paths are established here."
   ]
  },
  {
   "cell_type": "code",
   "execution_count": 2,
   "metadata": {},
   "outputs": [
    {
     "data": {
      "text/plain": [
       "{'environment': 'local',\n",
       " 'created': '11/01/2022, 15:51',\n",
       " 'segmentations': 'data/input/segmentations',\n",
       " 'train_images': 'data/input/train_images',\n",
       " 'test_images': 'data/input/test_images',\n",
       " 'train': 'data/input/train.csv',\n",
       " 'test': 'data/input/test.csv',\n",
       " 'train_bbox_data': 'data/input/train_bounding_boxes.csv',\n",
       " 'segmentations_labels': 'data/working/segmentations_labels.csv',\n",
       " 'train_metadata': 'data/working/train_metadata.csv'}"
      ]
     },
     "execution_count": 2,
     "metadata": {},
     "output_type": "execute_result"
    }
   ],
   "source": [
    "runtime = RuntimeConfig()\n",
    "files = FileConfig(runtime.environment)\n",
    "files.as_dict()"
   ]
  },
  {
   "cell_type": "markdown",
   "metadata": {},
   "source": [
    "## Segmentation Labels\n",
    "This section produces and stores a pandas DataFrame which will be used to create the TensorFlow training dataset. The data elements include:\n",
    "- StudyInstanceUID: The unique identifier for a patient's series of scans.     \n",
    "- SliceNumber: The slice number for the study in the Axial plane.     \n",
    "- Filepath: The path to the DICOM image file.     \n",
    "- C1-C7: One column for each vertebrae with values in [0,1], where a 1 indicates that the slice displays the associated vertebrae\n",
    "\n",
    "The dataframe will be stored in the working directory file named 'segmentation_labels.csv'"
   ]
  },
  {
   "cell_type": "code",
   "execution_count": 3,
   "metadata": {},
   "outputs": [
    {
     "name": "stderr",
     "output_type": "stream",
     "text": [
      "0it [00:00, ?it/s][Parallel(n_jobs=12)]: Using backend LokyBackend with 12 concurrent workers.\n",
      "0it [00:00, ?it/s]\n",
      "[Parallel(n_jobs=12)]: Done   0 out of   0 | elapsed:    0.0s finished\n"
     ]
    },
    {
     "ename": "NameError",
     "evalue": "name 'target' is not defined",
     "output_type": "error",
     "traceback": [
      "\u001b[0;31m---------------------------------------------------------------------------\u001b[0m",
      "\u001b[0;31mNameError\u001b[0m                                 Traceback (most recent call last)",
      "\u001b[1;32m/home/john/projects/CervicalSpineFractureDetection/notebooks/03_label.ipynb Cell 6\u001b[0m in \u001b[0;36m<cell line: 4>\u001b[0;34m()\u001b[0m\n\u001b[1;32m      <a href='vscode-notebook-cell://wsl%2Bubuntu/home/john/projects/CervicalSpineFractureDetection/notebooks/03_label.ipynb#W5sdnNjb2RlLXJlbW90ZQ%3D%3D?line=1'>2</a>\u001b[0m extractor \u001b[39m=\u001b[39m SegmentationVertebraeExtractor(\u001b[39m*\u001b[39m\u001b[39m*\u001b[39mparams)\n\u001b[1;32m      <a href='vscode-notebook-cell://wsl%2Bubuntu/home/john/projects/CervicalSpineFractureDetection/notebooks/03_label.ipynb#W5sdnNjb2RlLXJlbW90ZQ%3D%3D?line=2'>3</a>\u001b[0m extractor\u001b[39m.\u001b[39mexecute()\n\u001b[0;32m----> <a href='vscode-notebook-cell://wsl%2Bubuntu/home/john/projects/CervicalSpineFractureDetection/notebooks/03_label.ipynb#W5sdnNjb2RlLXJlbW90ZQ%3D%3D?line=3'>4</a>\u001b[0m labels \u001b[39m=\u001b[39m pd\u001b[39m.\u001b[39mread_csv(target, index_col\u001b[39m=\u001b[39m\u001b[39mFalse\u001b[39;00m)\n\u001b[1;32m      <a href='vscode-notebook-cell://wsl%2Bubuntu/home/john/projects/CervicalSpineFractureDetection/notebooks/03_label.ipynb#W5sdnNjb2RlLXJlbW90ZQ%3D%3D?line=4'>5</a>\u001b[0m labels\u001b[39m.\u001b[39mhead()\n",
      "\u001b[0;31mNameError\u001b[0m: name 'target' is not defined"
     ]
    }
   ],
   "source": [
    "params = SegmentationVertebraeExtractorConfig().as_dict()\n",
    "extractor = SegmentationVertebraeExtractor(**params)\n",
    "extractor.execute()\n",
    "labels = pd.read_csv(extractor.target, index_col=False)\n",
    "labels.head()"
   ]
  }
 ],
 "metadata": {
  "kernelspec": {
   "display_name": "Python 3.10.4 ('csf')",
   "language": "python",
   "name": "python3"
  },
  "language_info": {
   "codemirror_mode": {
    "name": "ipython",
    "version": 3
   },
   "file_extension": ".py",
   "mimetype": "text/x-python",
   "name": "python",
   "nbconvert_exporter": "python",
   "pygments_lexer": "ipython3",
   "version": "3.10.6"
  },
  "vscode": {
   "interpreter": {
    "hash": "5c7aacf4a450b834b55326697d1721adc48950a7a694effc6542fc738b0f314e"
   }
  }
 },
 "nbformat": 4,
 "nbformat_minor": 2
}
