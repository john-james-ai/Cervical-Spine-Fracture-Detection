{
 "cells": [
  {
   "cell_type": "markdown",
   "metadata": {},
   "source": [
    "# Label\n",
    "Eight seven scans have been annotated with vertebrae labels. The purpose of this notebook is to train a model to learn the location of C1 through C7 vertebrae in the DICOM images, then apply labels to the remaining CT scans in the dataset."
   ]
  },
  {
   "cell_type": "code",
   "execution_count": 1,
   "metadata": {},
   "outputs": [],
   "source": [
    "from csf.config.runtime import RuntimeConfig"
   ]
  },
  {
   "cell_type": "markdown",
   "metadata": {},
   "source": [
    "## Environment Setup\n",
    "The runtime environment, including runtime strategy, directory and file paths are established here."
   ]
  },
  {
   "cell_type": "code",
   "execution_count": 3,
   "metadata": {},
   "outputs": [
    {
     "data": {
      "text/plain": [
       "RuntimeConfig(name='runtime', environment='Localhost', base_data_dir='data/raw', strategy_type='default', strategy=<tensorflow.python.distribute.distribute_lib._DefaultDistributionStrategy object at 0x7f17e179f8e0>, device='cpu', gpus=[], num_gpus=0, tpu=None, num_workers=12, num_cores_per_replica=1, default_shard_dim=-1)"
      ]
     },
     "execution_count": 3,
     "metadata": {},
     "output_type": "execute_result"
    }
   ],
   "source": [
    "runtime = RuntimeConfig()\n",
    "runtime.as_dict()"
   ]
  },
  {
   "cell_type": "markdown",
   "metadata": {},
   "source": [
    "## Segmentation Labels\n",
    "This section produces and stores a pandas DataFrame which will be used to create the TensorFlow training dataset. The data elements include:\n",
    "- StudyInstanceUID: The unique identifier for a patient's series of scans.     \n",
    "- SliceNumber: The slice number for the study in the Axial plane.     \n",
    "- Filepath: The path to the DICOM image file.     \n",
    "- C1-C7: One column for each vertebrae with values in [0,1], where a 1 indicates that the slice displays the associated vertebrae\n",
    "\n",
    "The dataframe will be stored in the working directory file named 'segmentation_labels.csv'"
   ]
  },
  {
   "cell_type": "code",
   "execution_count": null,
   "metadata": {},
   "outputs": [],
   "source": [
    "params = SegmentationVertebraeExtractorConfig().as_dict()\n",
    "extractor = SegmentationVertebraeExtractor(**params)\n",
    "extractor.execute()\n",
    "labels = pd.read_csv(extractor.target, index_col=False)\n",
    "labels.head()"
   ]
  },
  {
   "cell_type": "code",
   "execution_count": null,
   "metadata": {},
   "outputs": [],
   "source": [
    "\n",
    "path = \"here/your/path/file.txt\"\n",
    "path.replace(\"here/your/\",\"\")"
   ]
  }
 ],
 "metadata": {
  "kernelspec": {
   "display_name": "Python 3.10.4 ('csf')",
   "language": "python",
   "name": "python3"
  },
  "language_info": {
   "codemirror_mode": {
    "name": "ipython",
    "version": 3
   },
   "file_extension": ".py",
   "mimetype": "text/x-python",
   "name": "python",
   "nbconvert_exporter": "python",
   "pygments_lexer": "ipython3",
   "version": "3.10.6"
  },
  "vscode": {
   "interpreter": {
    "hash": "5c7aacf4a450b834b55326697d1721adc48950a7a694effc6542fc738b0f314e"
   }
  }
 },
 "nbformat": 4,
 "nbformat_minor": 2
}
