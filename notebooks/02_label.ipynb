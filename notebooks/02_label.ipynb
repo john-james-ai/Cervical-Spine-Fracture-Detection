{
 "cells": [
  {
   "cell_type": "markdown",
   "metadata": {},
   "source": [
    "# Data Processing"
   ]
  },
  {
   "cell_type": "code",
   "execution_count": 1,
   "metadata": {},
   "outputs": [],
   "source": [
    "import warnings\n",
    "import seaborn as sns\n",
    "from IPython.display import display, HTML\n",
    "from csf.data.scan import Image\n",
    "warnings.filterwarnings('ignore')"
   ]
  },
  {
   "cell_type": "code",
   "execution_count": 2,
   "metadata": {},
   "outputs": [],
   "source": [
    "%matplotlib inline\n",
    "# Seaborn\n",
    "sns.set_palette(\"Blues_r\")\n",
    "sns.set_style(\"whitegrid\")\n",
    "FIGSIZE = (12,8)\n",
    "DARKBLUE = \"#1C3879\"\n",
    "LIGHTBLUE = \"steelblue\"\n",
    "# Pandas\n",
    "pd.options.display.float_format = '{:,.2f}'.format\n",
    "pd.set_option(\"display.max_rows\", 100)\n",
    "pd.set_option(\"display.max_columns\", 20)\n",
    "pd.set_option(\"display.max_colwidth\", 100)\n",
    "\n"
   ]
  },
  {
   "cell_type": "markdown",
   "metadata": {},
   "source": [
    "## Image"
   ]
  },
  {
   "cell_type": "code",
   "execution_count": 3,
   "metadata": {},
   "outputs": [
    {
     "name": "stdout",
     "output_type": "stream",
     "text": [
      "Dataset.file_meta -------------------------------\n",
      "(0002, 0001) File Meta Information Version       OB: b'\\x00\\x01'\n",
      "(0002, 0002) Media Storage SOP Class UID         UI: CT Image Storage\n",
      "(0002, 0003) Media Storage SOP Instance UID      UI: 1.2.826.0.1.3680043.25772.1.325\n",
      "(0002, 0010) Transfer Syntax UID                 UI: Explicit VR Little Endian\n",
      "(0002, 0012) Implementation Class UID            UI: 1.2.40.0.13.1.1.1\n",
      "(0002, 0013) Implementation Version Name         SH: 'PYDICOM 2.3.0'\n",
      "-------------------------------------------------\n",
      "(0008, 0018) SOP Instance UID                    UI: 1.2.826.0.1.3680043.25772.1.325\n",
      "(0008, 0023) Content Date                        DA: '20220727'\n",
      "(0008, 0033) Content Time                        TM: '181637.683885'\n",
      "(0010, 0010) Patient's Name                      PN: '25772'\n",
      "(0010, 0020) Patient ID                          LO: '25772'\n",
      "(0018, 0050) Slice Thickness                     DS: '0.625'\n",
      "(0020, 000d) Study Instance UID                  UI: 1.2.826.0.1.3680043.25772\n",
      "(0020, 000e) Series Instance UID                 UI: 1.2.826.0.1.3680043.25772.1\n",
      "(0020, 0013) Instance Number                     IS: '325'\n",
      "(0020, 0032) Image Position (Patient)            DS: [-54.266, -30.712, -130.247]\n",
      "(0020, 0037) Image Orientation (Patient)         DS: [1.000000, 0.000000, 0.000000, 0.000000, 1.000000, 0.000000]\n",
      "(0028, 0002) Samples per Pixel                   US: 1\n",
      "(0028, 0004) Photometric Interpretation          CS: 'MONOCHROME2'\n",
      "(0028, 0010) Rows                                US: 512\n",
      "(0028, 0011) Columns                             US: 512\n",
      "(0028, 0030) Pixel Spacing                       DS: [0.265625, 0.265625]\n",
      "(0028, 0100) Bits Allocated                      US: 16\n",
      "(0028, 0101) Bits Stored                         US: 16\n",
      "(0028, 0102) High Bit                            US: 15\n",
      "(0028, 0103) Pixel Representation                US: 1\n",
      "(0028, 1050) Window Center                       DS: '300.0'\n",
      "(0028, 1051) Window Width                        DS: '2000.0'\n",
      "(0028, 1052) Rescale Intercept                   DS: '-1024.0'\n",
      "(0028, 1053) Rescale Slope                       DS: '1.0'\n",
      "(7fe0, 0010) Pixel Data                          OW: Array of 524288 elements\n",
      "[0.625    0.265625 0.265625]\n",
      "Resize factor: [0.625    0.265625 0.265625]\n"
     ]
    },
    {
     "ename": "ValueError",
     "evalue": "operands could not be broadcast together with shapes (2,) (3,) ",
     "output_type": "error",
     "traceback": [
      "\u001b[0;31m---------------------------------------------------------------------------\u001b[0m",
      "\u001b[0;31mValueError\u001b[0m                                Traceback (most recent call last)",
      "\u001b[1;32m/home/john/projects/CervicalSpineFractureDetection/notebooks/01_process.ipynb Cell 5\u001b[0m in \u001b[0;36m<cell line: 4>\u001b[0;34m()\u001b[0m\n\u001b[1;32m      <a href='vscode-notebook-cell://wsl%2Bubuntu/home/john/projects/CervicalSpineFractureDetection/notebooks/01_process.ipynb#W4sdnNjb2RlLXJlbW90ZQ%3D%3D?line=1'>2</a>\u001b[0m image\u001b[39m.\u001b[39mload()\n\u001b[1;32m      <a href='vscode-notebook-cell://wsl%2Bubuntu/home/john/projects/CervicalSpineFractureDetection/notebooks/01_process.ipynb#W4sdnNjb2RlLXJlbW90ZQ%3D%3D?line=2'>3</a>\u001b[0m image\u001b[39m.\u001b[39mprint()\n\u001b[0;32m----> <a href='vscode-notebook-cell://wsl%2Bubuntu/home/john/projects/CervicalSpineFractureDetection/notebooks/01_process.ipynb#W4sdnNjb2RlLXJlbW90ZQ%3D%3D?line=3'>4</a>\u001b[0m image\u001b[39m.\u001b[39;49mclean(window\u001b[39m=\u001b[39;49m(\u001b[39m2000\u001b[39;49m,\u001b[39m500\u001b[39;49m))\n",
      "File \u001b[0;32m~/projects/CervicalSpineFractureDetection/csf/data/scan.py:66\u001b[0m, in \u001b[0;36mImage.clean\u001b[0;34m(self, window, target_spacing)\u001b[0m\n\u001b[1;32m     64\u001b[0m \u001b[39mself\u001b[39m\u001b[39m.\u001b[39m_images[\u001b[39m\"\u001b[39m\u001b[39mWindowed\u001b[39m\u001b[39m\"\u001b[39m] \u001b[39m=\u001b[39m \u001b[39mself\u001b[39m\u001b[39m.\u001b[39m_window_image(\u001b[39mself\u001b[39m\u001b[39m.\u001b[39m_images[\u001b[39m\"\u001b[39m\u001b[39mHU Scaled\u001b[39m\u001b[39m\"\u001b[39m], window)\n\u001b[1;32m     65\u001b[0m \u001b[39mself\u001b[39m\u001b[39m.\u001b[39m_images[\u001b[39m\"\u001b[39m\u001b[39mCropped\u001b[39m\u001b[39m\"\u001b[39m] \u001b[39m=\u001b[39m \u001b[39mself\u001b[39m\u001b[39m.\u001b[39m_crop(\u001b[39mself\u001b[39m\u001b[39m.\u001b[39m_images[\u001b[39m\"\u001b[39m\u001b[39mWindowed\u001b[39m\u001b[39m\"\u001b[39m])\n\u001b[0;32m---> 66\u001b[0m \u001b[39mself\u001b[39m\u001b[39m.\u001b[39m_images[\u001b[39m\"\u001b[39m\u001b[39mFinal\u001b[39m\u001b[39m\"\u001b[39m], \u001b[39mself\u001b[39m\u001b[39m.\u001b[39m_resampled_spacing \u001b[39m=\u001b[39m \u001b[39mself\u001b[39;49m\u001b[39m.\u001b[39;49m_resample(\n\u001b[1;32m     67\u001b[0m     \u001b[39mself\u001b[39;49m\u001b[39m.\u001b[39;49m_images[\u001b[39m\"\u001b[39;49m\u001b[39mCropped\u001b[39;49m\u001b[39m\"\u001b[39;49m], target_spacing\n\u001b[1;32m     68\u001b[0m )\n",
      "File \u001b[0;32m~/projects/CervicalSpineFractureDetection/csf/data/scan.py:173\u001b[0m, in \u001b[0;36mImage._resample\u001b[0;34m(self, image, target_spacing)\u001b[0m\n\u001b[1;32m    171\u001b[0m resize_factor \u001b[39m=\u001b[39m spacing \u001b[39m/\u001b[39m target_spacing\n\u001b[1;32m    172\u001b[0m \u001b[39mprint\u001b[39m(\u001b[39mf\u001b[39m\u001b[39m\"\u001b[39m\u001b[39mResize factor: \u001b[39m\u001b[39m{\u001b[39;00mresize_factor\u001b[39m}\u001b[39;00m\u001b[39m\"\u001b[39m)\n\u001b[0;32m--> 173\u001b[0m new_real_shape \u001b[39m=\u001b[39m image\u001b[39m.\u001b[39;49mshape \u001b[39m*\u001b[39;49m resize_factor\n\u001b[1;32m    174\u001b[0m \u001b[39mprint\u001b[39m(\u001b[39mf\u001b[39m\u001b[39m\"\u001b[39m\u001b[39mNew Real Shape: \u001b[39m\u001b[39m{\u001b[39;00mnew_real_shape\u001b[39m}\u001b[39;00m\u001b[39m\"\u001b[39m)\n\u001b[1;32m    175\u001b[0m new_shape \u001b[39m=\u001b[39m np\u001b[39m.\u001b[39mround(new_real_shape)\n",
      "\u001b[0;31mValueError\u001b[0m: operands could not be broadcast together with shapes (2,) (3,) "
     ]
    }
   ],
   "source": [
    "image = Image(filepath=SAMPLE_IMAGE)\n",
    "image.load()\n",
    "image.print()\n",
    "image.clean(window=(2000,500))\n",
    "#image.plot()"
   ]
  }
 ],
 "metadata": {
  "kernelspec": {
   "display_name": "Python 3.10.4 ('csf')",
   "language": "python",
   "name": "python3"
  },
  "language_info": {
   "codemirror_mode": {
    "name": "ipython",
    "version": 3
   },
   "file_extension": ".py",
   "mimetype": "text/x-python",
   "name": "python",
   "nbconvert_exporter": "python",
   "pygments_lexer": "ipython3",
   "version": "3.10.4"
  },
  "vscode": {
   "interpreter": {
    "hash": "5c7aacf4a450b834b55326697d1721adc48950a7a694effc6542fc738b0f314e"
   }
  }
 },
 "nbformat": 4,
 "nbformat_minor": 2
}
