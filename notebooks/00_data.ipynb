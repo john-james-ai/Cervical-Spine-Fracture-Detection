{
 "cells": [
  {
   "cell_type": "markdown",
   "metadata": {},
   "source": [
    "# Data"
   ]
  },
  {
   "cell_type": "code",
   "execution_count": 1,
   "metadata": {},
   "outputs": [],
   "source": [
    "\n",
    "import warnings\n",
    "import pandas as pd\n",
    "import numpy as np\n",
    "import matplotlib.pyplot as plt\n",
    "import seaborn as sns\n",
    "from IPython.display import display, HTML\n",
    "warnings.filterwarnings('ignore')"
   ]
  },
  {
   "cell_type": "code",
   "execution_count": 2,
   "metadata": {},
   "outputs": [],
   "source": [
    "%matplotlib inline\n",
    "# Seaborn\n",
    "sns.set_palette(\"Blues_r\")\n",
    "sns.set_style(\"whitegrid\")\n",
    "FIGSIZE = (12,8)\n",
    "DARKBLUE = \"#1C3879\"\n",
    "LIGHTBLUE = \"steelblue\"\n",
    "# Pandas\n",
    "pd.options.display.float_format = '{:,.2f}'.format\n",
    "pd.set_option(\"display.max_rows\", 100)\n",
    "pd.set_option(\"display.max_columns\", 20)\n",
    "pd.set_option(\"display.max_colwidth\", 100)\n",
    "# Directories and Filepaths\n",
    "TRAIN_IMAGES_DIR = \"data/raw/train_images\"\n",
    "TEST_IMAGES_DIR = \"data/raw/test_images\"\n",
    "SEGMENTATIONS_DIR = \"data/raw/segmentations\"\n",
    "training_metadata_FILEPATH = \"data/raw/train.csv\"\n",
    "TEST_METADATA_FILEPATH = \"data/raw/test.csv\"\n",
    "TRAIN_BOUNDING_BOXES_FILEPATH = \"data/raw/train_bounding_boxes.csv\"\n"
   ]
  },
  {
   "cell_type": "markdown",
   "metadata": {},
   "source": [
    "## Data Profile\n",
    "### Training Metadata"
   ]
  },
  {
   "cell_type": "code",
   "execution_count": 3,
   "metadata": {},
   "outputs": [],
   "source": [
    "training_metadata = pd.read_csv(training_metadata_FILEPATH, index_col=False)"
   ]
  },
  {
   "cell_type": "markdown",
   "metadata": {},
   "source": [
    "## Augmented Data\n",
    "- Craniovertebral Region (C1-C2) \n",
    "- Mid-Cervical Region (C3-C6)\n",
    "- Total Fractures\n"
   ]
  },
  {
   "cell_type": "code",
   "execution_count": null,
   "metadata": {},
   "outputs": [],
   "source": [
    "display(HTML('<h3>Training Metadata Summary</h3>'))\n",
    "training_metadata.info()"
   ]
  },
  {
   "cell_type": "code",
   "execution_count": null,
   "metadata": {},
   "outputs": [],
   "source": [
    "display(HTML('<h3>Training Metadata Sample</h3>'))\n",
    "training_metadata.head()"
   ]
  },
  {
   "cell_type": "code",
   "execution_count": null,
   "metadata": {},
   "outputs": [],
   "source": [
    "display(HTML('<h3>Patient Fracture and Vertebrae Distributions</h3>'))\n",
    "# Patient Fracture Distribution\n",
    "fig, ax1 = plt.subplots(figsize=FIGSIZE)\n",
    "ax1 = sns.countplot(data=training_metadata, x='patient_overall', hue=\"patient_overall\", dodge=False)\n",
    "for container in ax1.containers:\n",
    "    _ = ax1.bar_label(container)\n",
    "ax1.set_title('Patient / Fracture Distribution')\n",
    "ax1.set_xlabel(\"Patient Overall Diagnosis\")\n",
    "ax1.set_ylabel(\"Patients\")\n",
    "ax1.set_xticklabels(['No Fracture', 'Fracture(s)'])\n",
    "ax1.set_ylim([0,1200])\n",
    "plt.legend(labels=[\"No Fracture\", \"Fracture(s)\"]);"
   ]
  },
  {
   "cell_type": "code",
   "execution_count": null,
   "metadata": {},
   "outputs": [],
   "source": [
    "display(HTML('<h3>Patients with Fracture Vertebrae</h3>'))\n",
    "fig, ax = plt.subplots(figsize=FIGSIZE)\n",
    "df = training_metadata[['C1','C2','C3','C4','C5','C6','C7']].sum(axis=0).to_frame()\n",
    "df.columns = [\"Patients with Fracture\"]\n",
    "df['Patients'] = training_metadata.shape[0]\n",
    "df['Patients w/o Fracture'] = df['Patients'] - df[\"Patients with Fracture\"]\n",
    "df\n",
    "df[[\"Patients with Fracture\",'Patients w/o Fracture']].plot(kind='bar', stacked=True, color=[DARKBLUE, LIGHTBLUE],ax=ax)\n",
    "for container in ax.containers:\n",
    "    ax.bar_label(container)\n",
    "ax.set_title(\"Patients by Vertebrae Fracture\");\n"
   ]
  },
  {
   "cell_type": "code",
   "execution_count": null,
   "metadata": {},
   "outputs": [],
   "source": [
    "display(HTML('<h3>Distribution of Fractures by Vertebrae</h3>'))\n",
    "fig, ax = plt.subplots(figsize=FIGSIZE)\n",
    "df = training_metadata[['C1','C2','C3','C4','C5','C6','C7']].sum(axis=0).to_frame()\n",
    "df.columns = [\"Fractures\"]\n",
    "df['Total Fractures'] = training_metadata['total_fractures'].sum()\n",
    "df['Other Fractures'] = df['Total Fractures'] - df[\"Fractures\"]\n",
    "df\n",
    "df[[\"Fractures\",'Other Fractures']].plot(kind='bar', stacked=True, color=[DARKBLUE, LIGHTBLUE],ax=ax)\n",
    "for container in ax.containers:\n",
    "    ax.bar_label(container)\n",
    "ax.set_title(\"Distribution of Fractures by Vertebrae\");\n"
   ]
  },
  {
   "cell_type": "code",
   "execution_count": null,
   "metadata": {},
   "outputs": [],
   "source": [
    "df = training_metadata['total_fractures']\n",
    "fig, ax = plt.subplots(figsize=FIGSIZE)\n",
    "ax = sns.countplot(x=df, palette='Blues_r')\n",
    "for container in ax.containers:\n",
    "    ax.bar_label(container)\n",
    "ax.set_title(\"Number of Patients by Number of Fracture\\nn=2019\")\n",
    "ax.set_xlabel(\"Number of Fractures\")\n",
    "ax.set_ylabel(\"Number of Patients\");"
   ]
  },
  {
   "cell_type": "code",
   "execution_count": 7,
   "metadata": {},
   "outputs": [
    {
     "name": "stdout",
     "output_type": "stream",
     "text": [
      "{'Columns': array(['StudyInstanceUID', 'patient_overall', 'C1', 'C2', 'C3', 'C4',\n",
      "       'C5', 'C6', 'C7'], dtype=object), 'Dtype': array([dtype('O'), dtype('int64'), dtype('int64'), dtype('int64'),\n",
      "       dtype('int64'), dtype('int64'), dtype('int64'), dtype('int64'),\n",
      "       dtype('int64')], dtype=object), 'Non-Null Count': array([2019, 2019, 2019, 2019, 2019, 2019, 2019, 2019, 2019]), 'Null Count': array([0, 0, 0, 0, 0, 0, 0, 0, 0]), 'Minimum': array(['1.2.826.0.1.3680043.10001', 0, 0, 0, 0, 0, 0, 0, 0], dtype=object), 'Maximum': array(['1.2.826.0.1.3680043.9997', 1, 1, 1, 1, 1, 1, 1, 1], dtype=object), 'Num Unique': array([2019,    2,    2,    2,    2,    2,    2,    2,    2]), 'Memory Usage': array([   128, 164874,  16152,  16152,  16152,  16152,  16152,  16152,\n",
      "        16152,  16152])}\n"
     ]
    }
   ],
   "source": [
    "d = {}\n",
    "d['Columns'] = training_metadata.columns.values\n",
    "d['Dtype'] = training_metadata.dtypes.values\n",
    "d['Non-Null Count'] = training_metadata.count().values\n",
    "d['Null Count'] = training_metadata.isnull().sum(axis=0).values\n",
    "d['Minimum'] = training_metadata.min(axis=0, numeric_only=None).values\n",
    "d['Maximum'] = training_metadata.max(axis=0, numeric_only=None).values\n",
    "d['Num Unique'] = training_metadata.nunique(axis=0).values\n",
    "d['Memory Usage'] = training_metadata.memory_usage(deep=True).values\n",
    "print(d)"
   ]
  }
 ],
 "metadata": {
  "kernelspec": {
   "display_name": "Python 3.10.4 ('csf')",
   "language": "python",
   "name": "python3"
  },
  "language_info": {
   "codemirror_mode": {
    "name": "ipython",
    "version": 3
   },
   "file_extension": ".py",
   "mimetype": "text/x-python",
   "name": "python",
   "nbconvert_exporter": "python",
   "pygments_lexer": "ipython3",
   "version": "3.10.4"
  },
  "orig_nbformat": 4,
  "vscode": {
   "interpreter": {
    "hash": "5c7aacf4a450b834b55326697d1721adc48950a7a694effc6542fc738b0f314e"
   }
  }
 },
 "nbformat": 4,
 "nbformat_minor": 2
}
